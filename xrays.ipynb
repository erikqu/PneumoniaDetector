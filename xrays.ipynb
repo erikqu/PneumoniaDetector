{
 "cells": [
  {
   "cell_type": "code",
   "execution_count": null,
   "metadata": {},
   "outputs": [],
   "source": [
    "import os\n",
    "import numpy as np\n",
    "import cv2\n",
    "import keras\n",
    "import keras as K\n",
    "from keras.utils import Sequence\n",
    "from keras.models import Sequential\n",
    "from keras.layers import TimeDistributed, Reshape,Permute,MaxPooling2D, LSTM,Dense,Lambda, Activation, BatchNormalization, Bidirectional, GRU, LeakyReLU, Dropout, Conv2D, Flatten, Input\n",
    "from keras.applications.inception_v3 import InceptionV3\n",
    "from keras.models import Model\n",
    "import random\n",
    "from keras import optimizers\n",
    "np.set_printoptions(threshold=np.nan)"
   ]
  },
  {
   "cell_type": "code",
   "execution_count": null,
   "metadata": {},
   "outputs": [],
   "source": [
    "# #resize and make new dir for our train data...\n",
    "\n",
    "# dir = \"./train/NORMAL\"\n",
    "# for root,dirs,files in os.walk(dir):\n",
    "#     for x,file in enumerate(files):\n",
    "#         curdir =  os.path.join(root,file)\n",
    "#         img = cv2.imread(curdir,0) \n",
    "#         img = cv2.resize(img, (299,299))\n",
    "#         cv2.imwrite(\"./train/NORMAL/resized/%d.jpg\" % x, img)\n",
    "        "
   ]
  },
  {
   "cell_type": "code",
   "execution_count": null,
   "metadata": {},
   "outputs": [],
   "source": [
    "# dir = \"./test/NORMAL/\"\n",
    "# for root,dirs,files in os.walk(dir):\n",
    "#     for x,file in enumerate(files):\n",
    "#         curdir =  os.path.join(root,file)\n",
    "#         img = cv2.imread(curdir,0) \n",
    "#         img = cv2.resize(img, (299,299))\n",
    "#         print(curdir)\n",
    "#         cv2.imwrite(\"./test/NORMAL/resized/%d.jpg\" % x, img)"
   ]
  },
  {
   "cell_type": "code",
   "execution_count": null,
   "metadata": {},
   "outputs": [],
   "source": [
    "# 1340 (0 idx)\tin train/normal \n",
    "\n",
    "# 3874\t\tin train/pneumonia \n",
    "\n",
    "# 389\t\tin test/pneumonia \n",
    "\n",
    "# 233\t\tin test/normal "
   ]
  },
  {
   "cell_type": "code",
   "execution_count": null,
   "metadata": {},
   "outputs": [],
   "source": [
    "trainlen_norm = list(range(1340))\n",
    "trainlen_not = list(range(3874))"
   ]
  },
  {
   "cell_type": "code",
   "execution_count": null,
   "metadata": {},
   "outputs": [],
   "source": [
    "class DataGenTRAIN(Sequence):\n",
    "        def __init__(self, tot_ex, batch_size = 32):\n",
    "                self.batch_size = batch_size\n",
    "                self.tot_ex = tot_ex\n",
    "                self.on_epoch_end()\n",
    "                self.lwr = 0\n",
    "                self.upr = batch_size\n",
    "                self.half = batch_size\n",
    "                list_ = list(range(0,self.tot_ex))\n",
    "                np.random.shuffle(list_)\n",
    "                self.master = list_\n",
    "        def __getitem__(self, index):\n",
    "                indices = self.master[self.lwr:self.upr]\n",
    "                (X,y) =  self.__data_generation(indices = indices )\n",
    "                self.lwr += self.half\n",
    "                self.upr +=self.half\n",
    "                return (X,y)\n",
    "\n",
    "        def __len__(self):\n",
    "                return int(np.floor((self.tot_ex) / self.batch_size))\n",
    "        def on_epoch_end(self):\n",
    "                self.lwr = 0\n",
    "                self.upr = self.batch_size\n",
    "                return\n",
    "\n",
    "        def __data_generation(self, indices):\n",
    "                normidxs = random.sample(trainlen_norm, self.batch_size//2) \n",
    "                notidxs = random.sample(trainlen_not, self.batch_size//2)\n",
    "                X= np.array([cv2.imread('./train/NORMAL/resized/%d.jpg' % x,1) for x in normidxs])\n",
    "                Y = np.ones(self.batch_size//2)\n",
    "                X_1= np.array([cv2.imread('./train/PNEUMONIA/resized/%d.jpg' % x,1) for x in notidxs])\n",
    "                Y_1 = np.zeros(self.batch_size//2) \n",
    "                indices = list(range(self.batch_size))\n",
    "                np.random.shuffle(indices)\n",
    "                X = np.append(X,X_1, axis =0)\n",
    "                Y = np.append(Y,Y_1,axis=0)\n",
    "                #print(len(X))\n",
    "                #print(len(Y))\n",
    "                X = X[indices] \n",
    "                Y = Y[indices]                \n",
    "                return (X,Y)"
   ]
  },
  {
   "cell_type": "code",
   "execution_count": null,
   "metadata": {},
   "outputs": [],
   "source": [
    "traingenerator = DataGenTRAIN(batch_size = 8, tot_ex = 1340)"
   ]
  },
  {
   "cell_type": "code",
   "execution_count": 63,
   "metadata": {},
   "outputs": [],
   "source": [
    "inception = InceptionV3(include_top=False, weights='imagenet', classes = 1)\n",
    "input = Input(shape = (299,299,3))\n",
    "x = inception(input)\n",
    "x = Flatten()(x) \n",
    "x = Dense(128, activation = 'relu')(x) \n",
    "x = Dense(16, activation = 'relu')(x)\n",
    "output = Dense(1, activation = 'sigmoid')(x) \n",
    "\n",
    "\n"
   ]
  },
  {
   "cell_type": "code",
   "execution_count": 64,
   "metadata": {},
   "outputs": [
    {
     "name": "stderr",
     "output_type": "stream",
     "text": [
      "C:\\Users\\Erik\\Anaconda3\\lib\\site-packages\\ipykernel_launcher.py:1: UserWarning: Update your `Model` call to the Keras 2 API: `Model(inputs=Tensor(\"in..., outputs=Tensor(\"de...)`\n",
      "  \"\"\"Entry point for launching an IPython kernel.\n"
     ]
    }
   ],
   "source": [
    "model = Model(input = input, output = output)\n",
    "sgd = optimizers.SGD(lr=0.001, momentum=0.6, decay=1e-6, nesterov=False)\n",
    "model.compile(loss='binary_crossentropy', optimizer='sgd')"
   ]
  },
  {
   "cell_type": "code",
   "execution_count": 65,
   "metadata": {},
   "outputs": [],
   "source": [
    "# # from keras import backend as K\n",
    "# # K.clear_session()\n",
    "# del inception"
   ]
  },
  {
   "cell_type": "code",
   "execution_count": 75,
   "metadata": {},
   "outputs": [
    {
     "name": "stdout",
     "output_type": "stream",
     "text": [
      "Epoch 1/1\n",
      "167/167 [==============================] - 20s 121ms/step - loss: 0.0282\n"
     ]
    },
    {
     "data": {
      "text/plain": [
       "<keras.callbacks.History at 0x26d4e5b9da0>"
      ]
     },
     "execution_count": 75,
     "metadata": {},
     "output_type": "execute_result"
    }
   ],
   "source": [
    "model.fit_generator(generator=traingenerator,workers=1, epochs = 1)"
   ]
  },
  {
   "cell_type": "code",
   "execution_count": 76,
   "metadata": {},
   "outputs": [],
   "source": [
    "# model.save(\"./79acc_1_8_19.h5\")"
   ]
  },
  {
   "cell_type": "code",
   "execution_count": null,
   "metadata": {},
   "outputs": [],
   "source": []
  },
  {
   "cell_type": "code",
   "execution_count": null,
   "metadata": {},
   "outputs": [],
   "source": []
  },
  {
   "cell_type": "code",
   "execution_count": 89,
   "metadata": {},
   "outputs": [],
   "source": [
    "testlen_norm = list(range(233))\n",
    "testlen_not = list(range(389))\n",
    "gt = np.array([])\n",
    "class DataGenTEST(Sequence):\n",
    "        def __init__(self, tot_ex, batch_size = 32):\n",
    "                self.batch_size = batch_size\n",
    "                self.tot_ex = tot_ex\n",
    "                self.on_epoch_end()\n",
    "                self.lwr = 0\n",
    "                self.upr = batch_size\n",
    "                self.half = batch_size\n",
    "                list_ = list(range(0,self.tot_ex))\n",
    "                np.random.shuffle(list_)\n",
    "                self.master = list_\n",
    "        def __getitem__(self, index):\n",
    "                indices = self.master[self.lwr:self.upr]\n",
    "                (X,y) =  self.__data_generation(indices = indices )\n",
    "                self.lwr += self.half\n",
    "                self.upr +=self.half\n",
    "                return (X,y)\n",
    "\n",
    "        def __len__(self):\n",
    "                return int(np.floor((self.tot_ex) / self.batch_size))\n",
    "        def on_epoch_end(self):\n",
    "                self.lwr = 0\n",
    "                self.upr = self.batch_size\n",
    "                return\n",
    "\n",
    "        def __data_generation(self, indices):\n",
    "                normidxs = random.sample(testlen_norm, self.batch_size//2) \n",
    "                notidxs = random.sample(testlen_not, self.batch_size//2)\n",
    "                X= np.array([cv2.imread('./test/NORMAL/resized/%d.jpg' % x,1) for x in normidxs])\n",
    "                Y = np.ones(self.batch_size//2)\n",
    "                X_1= np.array([cv2.imread('./test/PNEUMONIA/resized/%d.jpg' % x,1) for x in notidxs])\n",
    "                Y_1 = np.zeros(self.batch_size//2) \n",
    "                indices = list(range(self.batch_size))\n",
    "                np.random.shuffle(indices)\n",
    "                X = np.append(X,X_1, axis =0)\n",
    "                Y = np.append(Y,Y_1,axis=0)\n",
    "                #print(len(X))\n",
    "                #print(len(Y))\n",
    "                X = X[indices] \n",
    "                Y = Y[indices] \n",
    "                global gt\n",
    "                gt = np.append(gt, Y, axis =0)\n",
    "                return (X,Y)"
   ]
  },
  {
   "cell_type": "code",
   "execution_count": 90,
   "metadata": {},
   "outputs": [],
   "source": [
    "testgenerator = DataGenTEST(batch_size = 8, tot_ex = 1336)\n",
    "\n",
    "sample = model.predict_generator(generator=testgenerator,workers=1)\n",
    "for x in range(len(sample)):\n",
    "    if sample[x] < .5:\n",
    "        sample[x] =0\n",
    "    else:\n",
    "        sample[x] =1"
   ]
  },
  {
   "cell_type": "code",
   "execution_count": 91,
   "metadata": {},
   "outputs": [
    {
     "data": {
      "text/plain": [
       "0.7305389221556886"
      ]
     },
     "execution_count": 91,
     "metadata": {},
     "output_type": "execute_result"
    }
   ],
   "source": [
    "from sklearn.metrics import accuracy_score\n",
    "accuracy_score(gt, sample)\n"
   ]
  },
  {
   "cell_type": "code",
   "execution_count": null,
   "metadata": {},
   "outputs": [],
   "source": []
  },
  {
   "cell_type": "code",
   "execution_count": null,
   "metadata": {},
   "outputs": [],
   "source": []
  },
  {
   "cell_type": "code",
   "execution_count": null,
   "metadata": {},
   "outputs": [],
   "source": []
  }
 ],
 "metadata": {
  "kernelspec": {
   "display_name": "Python 3",
   "language": "python",
   "name": "python3"
  },
  "language_info": {
   "codemirror_mode": {
    "name": "ipython",
    "version": 3
   },
   "file_extension": ".py",
   "mimetype": "text/x-python",
   "name": "python",
   "nbconvert_exporter": "python",
   "pygments_lexer": "ipython3",
   "version": "3.6.5"
  }
 },
 "nbformat": 4,
 "nbformat_minor": 2
}
